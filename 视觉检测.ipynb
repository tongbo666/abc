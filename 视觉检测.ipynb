{
 "cells": [
  {
   "cell_type": "markdown",
   "metadata": {},
   "source": [
    "<h3>准备</h3>"
   ]
  },
  {
   "cell_type": "markdown",
   "metadata": {},
   "source": [
    "<h4>导入包</h4>"
   ]
  },
  {
   "cell_type": "code",
   "execution_count": 1,
   "metadata": {
    "ExecuteTime": {
     "end_time": "2021-10-20T12:05:46.364905Z",
     "start_time": "2021-10-20T12:05:38.198125Z"
    }
   },
   "outputs": [],
   "source": [
    "import os\n",
    "import json\n",
    "import requests\n",
    "from time import localtime, strftime\n",
    "from typing import Optional, Union\n",
    "from PIL.Image import Image, open, fromarray\n",
    "from PIL.ImageFilter import FIND_EDGES\n",
    "import numpy as np\n",
    "import tensorflow as tf\n",
    "from tensorflow import Tensor\n",
    "from tensorflow.keras.models import Sequential, save_model, load_model\n",
    "from tensorflow.keras.layers import Dense, Conv2D, MaxPool2D, Dropout, LeakyReLU, Flatten, Lambda\n",
    "from tensorflow.keras.layers.experimental.preprocessing import Resizing, Rescaling\n",
    "from tensorflow.keras.losses import BinaryCrossentropy, SparseCategoricalCrossentropy\n",
    "from tensorflow.keras.optimizers import Adam, RMSprop, SGD\n",
    "from tensorflow.keras.callbacks import History, Callback, TensorBoard, EarlyStopping\n",
    "from tensorflow.keras.preprocessing import image_dataset_from_directory\n",
    "from tensorflow.keras.preprocessing.image import ImageDataGenerator\n",
    "from tensorflow.keras.backend import clear_session\n",
    "from sklearn.metrics import classification_report"
   ]
  },
  {
   "cell_type": "markdown",
   "metadata": {},
   "source": [
    "<h4>设置tensorflow</h4>"
   ]
  },
  {
   "cell_type": "code",
   "execution_count": 2,
   "metadata": {
    "ExecuteTime": {
     "end_time": "2021-10-20T12:05:54.960743Z",
     "start_time": "2021-10-20T12:05:53.087410Z"
    }
   },
   "outputs": [],
   "source": [
    "tf.compat.v1.enable_eager_execution()\n",
    "for gpu in tf.config.experimental.list_physical_devices(\"GPU\"):\n",
    "    tf.config.experimental.set_memory_growth(gpu, True)"
   ]
  },
  {
   "cell_type": "markdown",
   "metadata": {},
   "source": [
    "<h3>准备数据</h3>"
   ]
  },
  {
   "cell_type": "code",
   "execution_count": 3,
   "metadata": {
    "ExecuteTime": {
     "end_time": "2021-10-20T12:05:54.977746Z",
     "start_time": "2021-10-20T12:05:54.969716Z"
    }
   },
   "outputs": [],
   "source": [
    "train_dir = os.path.join(\"../data/pic/\", \"train\")\n",
    "test_dir = os.path.join(\"../data/pic/\", \"test\")"
   ]
  },
  {
   "cell_type": "markdown",
   "metadata": {},
   "source": [
    "<h4>边缘检测</h4>"
   ]
  },
  {
   "cell_type": "code",
   "execution_count": 4,
   "metadata": {
    "ExecuteTime": {
     "end_time": "2021-10-20T12:05:55.909853Z",
     "start_time": "2021-10-20T12:05:55.903854Z"
    }
   },
   "outputs": [],
   "source": [
    "def find_edges(img: Union[np.ndarray, Image]) -> np.ndarray:\n",
    "    \"\"\"\n",
    "    图片边缘检测\\n\n",
    "    :param img: 一张图片\n",
    "    :return: 边缘检测后的图片\n",
    "    \"\"\"\n",
    "    if isinstance(img, np.ndarray):\n",
    "        image: Image = fromarray(img.astype(np.uint8))\n",
    "    else:\n",
    "        image: Image = img\n",
    "    return np.array(image.filter(FIND_EDGES)).astype(\"float\")"
   ]
  },
  {
   "cell_type": "markdown",
   "metadata": {},
   "source": [
    "<h4>数据预处理</h4>"
   ]
  },
  {
   "cell_type": "code",
   "execution_count": 9,
   "metadata": {
    "ExecuteTime": {
     "end_time": "2021-10-19T01:27:33.249250Z",
     "start_time": "2021-10-19T01:27:33.245252Z"
    }
   },
   "outputs": [],
   "source": [
    "train_gen = ImageDataGenerator(\n",
    "    horizontal_flip=True,\n",
    "    vertical_flip=True,\n",
    "    rotation_range=360,\n",
    "    width_shift_range=0.03,\n",
    "    height_shift_range=0.03,\n",
    "    fill_mode='nearest',\n",
    "    validation_split=0.2\n",
    ")\n",
    "val_gen = ImageDataGenerator(\n",
    "    validation_split=0.2\n",
    ")"
   ]
  },
  {
   "cell_type": "code",
   "execution_count": 10,
   "metadata": {
    "ExecuteTime": {
     "end_time": "2021-10-19T01:27:34.383509Z",
     "start_time": "2021-10-19T01:27:34.140296Z"
    }
   },
   "outputs": [
    {
     "name": "stdout",
     "output_type": "stream",
     "text": [
      "Found 89 images belonging to 2 classes.\n",
      "Found 21 images belonging to 2 classes.\n"
     ]
    }
   ],
   "source": [
    "train_ds = train_gen.flow_from_directory(\n",
    "    train_dir,\n",
    "    target_size=(160, 160),\n",
    "    color_mode='rgb',\n",
    "    class_mode='sparse',\n",
    "    batch_size=32,\n",
    "    shuffle=True,\n",
    "    seed=123,\n",
    "    subset=\"training\"\n",
    ")\n",
    "val_ds = train_gen.flow_from_directory(\n",
    "    train_dir,\n",
    "    target_size=(160, 160),\n",
    "    color_mode='rgb',\n",
    "    class_mode='sparse',\n",
    "    batch_size=32,\n",
    "    shuffle=True,\n",
    "    seed=123,\n",
    "    subset=\"validation\"\n",
    ")"
   ]
  },
  {
   "cell_type": "markdown",
   "metadata": {},
   "source": [
    "<h3>搭建模型并训练</h3>"
   ]
  },
  {
   "cell_type": "markdown",
   "metadata": {},
   "source": [
    "<h4>搭建模型</h4>"
   ]
  },
  {
   "cell_type": "code",
   "execution_count": 11,
   "metadata": {
    "ExecuteTime": {
     "end_time": "2021-10-19T01:27:36.377302Z",
     "start_time": "2021-10-19T01:27:36.299373Z"
    }
   },
   "outputs": [
    {
     "name": "stdout",
     "output_type": "stream",
     "text": [
      "Model: \"pic_clf\"\n",
      "_________________________________________________________________\n",
      "Layer (type)                 Output Shape              Param #   \n",
      "=================================================================\n",
      "resize (Resizing)            (None, 160, 160, 3)       0         \n",
      "_________________________________________________________________\n",
      "rescale (Rescaling)          (None, 160, 160, 3)       0         \n",
      "_________________________________________________________________\n",
      "conv2d1 (Conv2D)             (None, 158, 158, 32)      896       \n",
      "_________________________________________________________________\n",
      "maxpool2d_1 (MaxPooling2D)   (None, 79, 79, 32)        0         \n",
      "_________________________________________________________________\n",
      "conv2d2 (Conv2D)             (None, 77, 77, 64)        18496     \n",
      "_________________________________________________________________\n",
      "maxpool2d_2 (MaxPooling2D)   (None, 38, 38, 64)        0         \n",
      "_________________________________________________________________\n",
      "conv2d3 (Conv2D)             (None, 36, 36, 128)       73856     \n",
      "_________________________________________________________________\n",
      "maxpool2d_3 (MaxPooling2D)   (None, 18, 18, 128)       0         \n",
      "_________________________________________________________________\n",
      "conv2d4 (Conv2D)             (None, 16, 16, 32)        36896     \n",
      "_________________________________________________________________\n",
      "maxpool2d_4 (MaxPooling2D)   (None, 8, 8, 32)          0         \n",
      "_________________________________________________________________\n",
      "conv2d5 (Conv2D)             (None, 6, 6, 16)          4624      \n",
      "_________________________________________________________________\n",
      "maxpool2d_5 (MaxPooling2D)   (None, 3, 3, 16)          0         \n",
      "_________________________________________________________________\n",
      "flatten_6 (Flatten)          (None, 144)               0         \n",
      "_________________________________________________________________\n",
      "dense_6 (Dense)              (None, 16)                2320      \n",
      "_________________________________________________________________\n",
      "dense_7 (Dense)              (None, 2)                 34        \n",
      "=================================================================\n",
      "Total params: 137,122\n",
      "Trainable params: 137,122\n",
      "Non-trainable params: 0\n",
      "_________________________________________________________________\n"
     ]
    }
   ],
   "source": [
    "clear_session()\n",
    "model = Sequential([\n",
    "    Resizing(160, 160, name=\"resize\", input_shape=(160, 160, 3)),\n",
    "    Rescaling(1.0 / 255, name=\"rescale\"),\n",
    "    Conv2D(filters=32, kernel_size=(3, 3), data_format=\"channels_last\", activation=\"relu\", name=\"conv2d1\"),\n",
    "    MaxPool2D(pool_size=(2, 2), name=\"maxpool2d_1\"),\n",
    "    Conv2D(filters=64, kernel_size=(3, 3), data_format=\"channels_last\", activation=\"relu\", name=\"conv2d2\"),\n",
    "    MaxPool2D(pool_size=(2, 2), name=\"maxpool2d_2\"),\n",
    "    Conv2D(filters=128, kernel_size=(3, 3), data_format=\"channels_last\", activation=\"relu\", name=\"conv2d3\"),\n",
    "    MaxPool2D(pool_size=(2, 2), name=\"maxpool2d_3\"),\n",
    "    Conv2D(filters=32, kernel_size=(3, 3), data_format=\"channels_last\", activation=\"relu\", name=\"conv2d4\"),\n",
    "    MaxPool2D(pool_size=(2, 2), name=\"maxpool2d_4\"),\n",
    "    Conv2D(filters=16, kernel_size=(3, 3), data_format=\"channels_last\", activation=\"relu\", name=\"conv2d5\"),\n",
    "    MaxPool2D(pool_size=(2, 2), name=\"maxpool2d_5\"),\n",
    "    Flatten(data_format=\"channels_last\", name=\"flatten_6\"),\n",
    "    Dense(units=16, activation=\"relu\", name=\"dense_6\"),\n",
    "    Dense(units=2, activation=\"sigmoid\", name=\"dense_7\")\n",
    "], name=\"pic_clf\")\n",
    "model.compile(\n",
    "    loss=SparseCategoricalCrossentropy(from_logits=True),\n",
    "    optimizer=Adam(learning_rate=1e-4),\n",
    "    metrics=[\"accuracy\"]\n",
    ")\n",
    "model.summary()"
   ]
  },
  {
   "cell_type": "markdown",
   "metadata": {},
   "source": [
    "<h4>模型训练</h4>"
   ]
  },
  {
   "cell_type": "code",
   "execution_count": 12,
   "metadata": {
    "ExecuteTime": {
     "end_time": "2021-10-19T01:29:10.720219Z",
     "start_time": "2021-10-19T01:27:40.972168Z"
    }
   },
   "outputs": [
    {
     "name": "stdout",
     "output_type": "stream",
     "text": [
      "Epoch 1/120\n",
      "1/3 [=========>....................] - ETA: 0s - loss: 0.6993 - accuracy: 0.1200WARNING:tensorflow:From c:\\users\\drzon\\appdata\\local\\programs\\python\\python37\\lib\\site-packages\\tensorflow\\python\\ops\\summary_ops_v2.py:1277: stop (from tensorflow.python.eager.profiler) is deprecated and will be removed after 2020-07-01.\n",
      "Instructions for updating:\n",
      "use `tf.profiler.experimental.stop` instead.\n",
      "3/3 [==============================] - 2s 542ms/step - loss: 0.6956 - accuracy: 0.2921 - val_loss: 0.6919 - val_accuracy: 0.7143\n",
      "Epoch 2/120\n",
      "3/3 [==============================] - 1s 185ms/step - loss: 0.6902 - accuracy: 0.7191 - val_loss: 0.6868 - val_accuracy: 0.7143\n",
      "Epoch 3/120\n",
      "3/3 [==============================] - 1s 189ms/step - loss: 0.6844 - accuracy: 0.7191 - val_loss: 0.6815 - val_accuracy: 0.7143\n",
      "Epoch 4/120\n",
      "3/3 [==============================] - 1s 174ms/step - loss: 0.6796 - accuracy: 0.7191 - val_loss: 0.6765 - val_accuracy: 0.7143\n",
      "Epoch 5/120\n",
      "3/3 [==============================] - 1s 173ms/step - loss: 0.6751 - accuracy: 0.7191 - val_loss: 0.6697 - val_accuracy: 0.7143\n",
      "Epoch 6/120\n",
      "3/3 [==============================] - 1s 186ms/step - loss: 0.6669 - accuracy: 0.7191 - val_loss: 0.6628 - val_accuracy: 0.7143\n",
      "Epoch 7/120\n",
      "3/3 [==============================] - 1s 188ms/step - loss: 0.6584 - accuracy: 0.7191 - val_loss: 0.6541 - val_accuracy: 0.7143\n",
      "Epoch 8/120\n",
      "3/3 [==============================] - 1s 193ms/step - loss: 0.6498 - accuracy: 0.7191 - val_loss: 0.6434 - val_accuracy: 0.7143\n",
      "Epoch 9/120\n",
      "3/3 [==============================] - 1s 184ms/step - loss: 0.6381 - accuracy: 0.7191 - val_loss: 0.6315 - val_accuracy: 0.7143\n",
      "Epoch 10/120\n",
      "3/3 [==============================] - 1s 176ms/step - loss: 0.6267 - accuracy: 0.7191 - val_loss: 0.6192 - val_accuracy: 0.7143\n",
      "Epoch 11/120\n",
      "3/3 [==============================] - 1s 189ms/step - loss: 0.6144 - accuracy: 0.7191 - val_loss: 0.6089 - val_accuracy: 0.7143\n",
      "Epoch 12/120\n",
      "3/3 [==============================] - 1s 172ms/step - loss: 0.6047 - accuracy: 0.7191 - val_loss: 0.6012 - val_accuracy: 0.7143\n",
      "Epoch 13/120\n",
      "3/3 [==============================] - 1s 174ms/step - loss: 0.5978 - accuracy: 0.7191 - val_loss: 0.5981 - val_accuracy: 0.7143\n",
      "Epoch 14/120\n",
      "3/3 [==============================] - 1s 191ms/step - loss: 0.5949 - accuracy: 0.7191 - val_loss: 0.5961 - val_accuracy: 0.7143\n",
      "Epoch 15/120\n",
      "3/3 [==============================] - 1s 193ms/step - loss: 0.5916 - accuracy: 0.7191 - val_loss: 0.5963 - val_accuracy: 0.7143\n",
      "Epoch 16/120\n",
      "3/3 [==============================] - 1s 173ms/step - loss: 0.5928 - accuracy: 0.7191 - val_loss: 0.5962 - val_accuracy: 0.7143\n",
      "Epoch 17/120\n",
      "3/3 [==============================] - 1s 178ms/step - loss: 0.5924 - accuracy: 0.7191 - val_loss: 0.5966 - val_accuracy: 0.7143\n",
      "Epoch 18/120\n",
      "3/3 [==============================] - 1s 174ms/step - loss: 0.5923 - accuracy: 0.7191 - val_loss: 0.5967 - val_accuracy: 0.7143\n",
      "Epoch 19/120\n",
      "3/3 [==============================] - 1s 180ms/step - loss: 0.5926 - accuracy: 0.7191 - val_loss: 0.5966 - val_accuracy: 0.7143\n",
      "Epoch 20/120\n",
      "3/3 [==============================] - 1s 194ms/step - loss: 0.5924 - accuracy: 0.7191 - val_loss: 0.5965 - val_accuracy: 0.7143\n",
      "Epoch 21/120\n",
      "3/3 [==============================] - 1s 174ms/step - loss: 0.5924 - accuracy: 0.7191 - val_loss: 0.5966 - val_accuracy: 0.7143\n",
      "Epoch 22/120\n",
      "3/3 [==============================] - 1s 190ms/step - loss: 0.5924 - accuracy: 0.7191 - val_loss: 0.5966 - val_accuracy: 0.7143\n",
      "Epoch 23/120\n",
      "3/3 [==============================] - 1s 187ms/step - loss: 0.5922 - accuracy: 0.7191 - val_loss: 0.5962 - val_accuracy: 0.7143\n",
      "Epoch 24/120\n",
      "3/3 [==============================] - 1s 174ms/step - loss: 0.5922 - accuracy: 0.7191 - val_loss: 0.5963 - val_accuracy: 0.7143\n",
      "Epoch 25/120\n",
      "3/3 [==============================] - 1s 179ms/step - loss: 0.5919 - accuracy: 0.7191 - val_loss: 0.5959 - val_accuracy: 0.7143\n",
      "Epoch 26/120\n",
      "3/3 [==============================] - 1s 189ms/step - loss: 0.5918 - accuracy: 0.7191 - val_loss: 0.5956 - val_accuracy: 0.7143\n",
      "Epoch 27/120\n",
      "3/3 [==============================] - 1s 188ms/step - loss: 0.5914 - accuracy: 0.7191 - val_loss: 0.5952 - val_accuracy: 0.7143\n",
      "Epoch 28/120\n",
      "3/3 [==============================] - 1s 194ms/step - loss: 0.5917 - accuracy: 0.7191 - val_loss: 0.5949 - val_accuracy: 0.7143\n",
      "Epoch 29/120\n",
      "3/3 [==============================] - 1s 172ms/step - loss: 0.5913 - accuracy: 0.7191 - val_loss: 0.5948 - val_accuracy: 0.7143\n",
      "Epoch 30/120\n",
      "3/3 [==============================] - 1s 177ms/step - loss: 0.5909 - accuracy: 0.7191 - val_loss: 0.5945 - val_accuracy: 0.7143\n",
      "Epoch 31/120\n",
      "3/3 [==============================] - 1s 196ms/step - loss: 0.5905 - accuracy: 0.7191 - val_loss: 0.5936 - val_accuracy: 0.7143\n",
      "Epoch 32/120\n",
      "3/3 [==============================] - 1s 174ms/step - loss: 0.5901 - accuracy: 0.7191 - val_loss: 0.5935 - val_accuracy: 0.7143\n",
      "Epoch 33/120\n",
      "3/3 [==============================] - 1s 196ms/step - loss: 0.5898 - accuracy: 0.7191 - val_loss: 0.5934 - val_accuracy: 0.7143\n",
      "Epoch 34/120\n",
      "3/3 [==============================] - 1s 175ms/step - loss: 0.5897 - accuracy: 0.7191 - val_loss: 0.5922 - val_accuracy: 0.7143\n",
      "Epoch 35/120\n",
      "3/3 [==============================] - 1s 177ms/step - loss: 0.5894 - accuracy: 0.7191 - val_loss: 0.5921 - val_accuracy: 0.7143\n",
      "Epoch 36/120\n",
      "3/3 [==============================] - 1s 178ms/step - loss: 0.5884 - accuracy: 0.7191 - val_loss: 0.5911 - val_accuracy: 0.7143\n",
      "Epoch 37/120\n",
      "3/3 [==============================] - 1s 178ms/step - loss: 0.5886 - accuracy: 0.7191 - val_loss: 0.5909 - val_accuracy: 0.7143\n",
      "Epoch 38/120\n",
      "3/3 [==============================] - 1s 179ms/step - loss: 0.5881 - accuracy: 0.7191 - val_loss: 0.5902 - val_accuracy: 0.7143\n",
      "Epoch 39/120\n",
      "3/3 [==============================] - 1s 172ms/step - loss: 0.5872 - accuracy: 0.7191 - val_loss: 0.5895 - val_accuracy: 0.7143\n",
      "Epoch 40/120\n",
      "3/3 [==============================] - 1s 181ms/step - loss: 0.5867 - accuracy: 0.7191 - val_loss: 0.5889 - val_accuracy: 0.7143\n",
      "Epoch 41/120\n",
      "3/3 [==============================] - 1s 178ms/step - loss: 0.5860 - accuracy: 0.7191 - val_loss: 0.5881 - val_accuracy: 0.7143\n",
      "Epoch 42/120\n",
      "3/3 [==============================] - 1s 195ms/step - loss: 0.5851 - accuracy: 0.7191 - val_loss: 0.5869 - val_accuracy: 0.7143\n",
      "Epoch 43/120\n",
      "3/3 [==============================] - 1s 184ms/step - loss: 0.5843 - accuracy: 0.7191 - val_loss: 0.5844 - val_accuracy: 0.7143\n",
      "Epoch 44/120\n",
      "3/3 [==============================] - 1s 192ms/step - loss: 0.5828 - accuracy: 0.7191 - val_loss: 0.5843 - val_accuracy: 0.7143\n",
      "Epoch 45/120\n",
      "3/3 [==============================] - 1s 181ms/step - loss: 0.5820 - accuracy: 0.7191 - val_loss: 0.5824 - val_accuracy: 0.7143\n",
      "Epoch 46/120\n",
      "3/3 [==============================] - 1s 182ms/step - loss: 0.5806 - accuracy: 0.7191 - val_loss: 0.5812 - val_accuracy: 0.7143\n",
      "Epoch 47/120\n",
      "3/3 [==============================] - 1s 174ms/step - loss: 0.5790 - accuracy: 0.7191 - val_loss: 0.5795 - val_accuracy: 0.7143\n",
      "Epoch 48/120\n",
      "3/3 [==============================] - 1s 178ms/step - loss: 0.5772 - accuracy: 0.7191 - val_loss: 0.5736 - val_accuracy: 0.7143\n",
      "Epoch 49/120\n",
      "3/3 [==============================] - 1s 190ms/step - loss: 0.5747 - accuracy: 0.7191 - val_loss: 0.5752 - val_accuracy: 0.7143\n",
      "Epoch 50/120\n",
      "3/3 [==============================] - 1s 189ms/step - loss: 0.5719 - accuracy: 0.7191 - val_loss: 0.5720 - val_accuracy: 0.7143\n",
      "Epoch 51/120\n",
      "3/3 [==============================] - 1s 177ms/step - loss: 0.5702 - accuracy: 0.7191 - val_loss: 0.5658 - val_accuracy: 0.7143\n",
      "Epoch 52/120\n",
      "3/3 [==============================] - 1s 176ms/step - loss: 0.5668 - accuracy: 0.7191 - val_loss: 0.5640 - val_accuracy: 0.7143\n",
      "Epoch 53/120\n",
      "3/3 [==============================] - 1s 190ms/step - loss: 0.5662 - accuracy: 0.7191 - val_loss: 0.5618 - val_accuracy: 0.7143\n",
      "Epoch 54/120\n",
      "3/3 [==============================] - 1s 172ms/step - loss: 0.5618 - accuracy: 0.7191 - val_loss: 0.5554 - val_accuracy: 0.7143\n",
      "Epoch 55/120\n",
      "3/3 [==============================] - 1s 172ms/step - loss: 0.5582 - accuracy: 0.7191 - val_loss: 0.5538 - val_accuracy: 0.7143\n",
      "Epoch 56/120\n"
     ]
    },
    {
     "name": "stdout",
     "output_type": "stream",
     "text": [
      "3/3 [==============================] - 1s 187ms/step - loss: 0.5542 - accuracy: 0.7191 - val_loss: 0.5495 - val_accuracy: 0.7143\n",
      "Epoch 57/120\n",
      "3/3 [==============================] - 1s 192ms/step - loss: 0.5471 - accuracy: 0.7191 - val_loss: 0.5463 - val_accuracy: 0.7143\n",
      "Epoch 58/120\n",
      "3/3 [==============================] - 1s 180ms/step - loss: 0.5454 - accuracy: 0.7191 - val_loss: 0.5341 - val_accuracy: 0.7143\n",
      "Epoch 59/120\n",
      "3/3 [==============================] - 1s 178ms/step - loss: 0.5390 - accuracy: 0.7191 - val_loss: 0.5300 - val_accuracy: 0.7143\n",
      "Epoch 60/120\n",
      "3/3 [==============================] - 1s 187ms/step - loss: 0.5342 - accuracy: 0.7191 - val_loss: 0.5249 - val_accuracy: 0.7143\n",
      "Epoch 61/120\n",
      "3/3 [==============================] - 1s 170ms/step - loss: 0.5279 - accuracy: 0.7191 - val_loss: 0.5191 - val_accuracy: 0.7143\n",
      "Epoch 62/120\n",
      "3/3 [==============================] - 1s 186ms/step - loss: 0.5173 - accuracy: 0.7191 - val_loss: 0.5053 - val_accuracy: 0.7143\n",
      "Epoch 63/120\n",
      "3/3 [==============================] - 1s 184ms/step - loss: 0.5107 - accuracy: 0.7191 - val_loss: 0.4977 - val_accuracy: 0.7143\n",
      "Epoch 64/120\n",
      "3/3 [==============================] - 1s 182ms/step - loss: 0.4959 - accuracy: 0.7191 - val_loss: 0.4843 - val_accuracy: 0.7143\n",
      "Epoch 65/120\n",
      "3/3 [==============================] - 1s 175ms/step - loss: 0.4896 - accuracy: 0.7191 - val_loss: 0.4792 - val_accuracy: 0.7143\n",
      "Epoch 66/120\n",
      "3/3 [==============================] - 1s 171ms/step - loss: 0.4793 - accuracy: 0.7191 - val_loss: 0.4684 - val_accuracy: 0.7143\n",
      "Epoch 67/120\n",
      "3/3 [==============================] - 1s 173ms/step - loss: 0.4696 - accuracy: 0.7303 - val_loss: 0.4559 - val_accuracy: 0.7619\n",
      "Epoch 68/120\n",
      "3/3 [==============================] - 1s 188ms/step - loss: 0.4613 - accuracy: 0.7416 - val_loss: 0.4378 - val_accuracy: 0.9048\n",
      "Epoch 69/120\n",
      "3/3 [==============================] - 1s 170ms/step - loss: 0.4490 - accuracy: 0.7865 - val_loss: 0.4394 - val_accuracy: 1.0000\n",
      "Epoch 70/120\n",
      "3/3 [==============================] - 1s 186ms/step - loss: 0.4393 - accuracy: 0.9551 - val_loss: 0.4284 - val_accuracy: 1.0000\n",
      "Epoch 71/120\n",
      "3/3 [==============================] - 1s 172ms/step - loss: 0.4277 - accuracy: 0.9326 - val_loss: 0.4201 - val_accuracy: 0.9524\n",
      "Epoch 72/120\n",
      "3/3 [==============================] - 1s 171ms/step - loss: 0.4236 - accuracy: 0.9326 - val_loss: 0.4150 - val_accuracy: 1.0000\n",
      "Epoch 73/120\n",
      "3/3 [==============================] - 1s 170ms/step - loss: 0.4135 - accuracy: 0.9888 - val_loss: 0.4082 - val_accuracy: 1.0000\n",
      "Epoch 74/120\n",
      "3/3 [==============================] - 1s 170ms/step - loss: 0.4021 - accuracy: 1.0000 - val_loss: 0.3990 - val_accuracy: 1.0000\n",
      "Epoch 75/120\n",
      "3/3 [==============================] - 1s 177ms/step - loss: 0.3981 - accuracy: 0.9663 - val_loss: 0.3818 - val_accuracy: 1.0000\n",
      "Epoch 76/120\n",
      "3/3 [==============================] - 1s 171ms/step - loss: 0.3890 - accuracy: 1.0000 - val_loss: 0.3818 - val_accuracy: 1.0000\n",
      "Epoch 77/120\n",
      "3/3 [==============================] - 1s 188ms/step - loss: 0.3759 - accuracy: 1.0000 - val_loss: 0.3703 - val_accuracy: 1.0000\n",
      "Epoch 78/120\n",
      "3/3 [==============================] - 1s 185ms/step - loss: 0.3670 - accuracy: 1.0000 - val_loss: 0.3566 - val_accuracy: 1.0000\n",
      "Epoch 79/120\n",
      "3/3 [==============================] - 1s 172ms/step - loss: 0.3614 - accuracy: 1.0000 - val_loss: 0.3501 - val_accuracy: 1.0000\n",
      "Epoch 80/120\n",
      "3/3 [==============================] - 1s 171ms/step - loss: 0.3495 - accuracy: 1.0000 - val_loss: 0.3421 - val_accuracy: 1.0000\n",
      "Epoch 81/120\n",
      "3/3 [==============================] - 1s 171ms/step - loss: 0.3409 - accuracy: 1.0000 - val_loss: 0.3364 - val_accuracy: 1.0000\n",
      "Epoch 82/120\n",
      "3/3 [==============================] - 1s 174ms/step - loss: 0.3365 - accuracy: 1.0000 - val_loss: 0.3327 - val_accuracy: 1.0000\n",
      "Epoch 83/120\n",
      "3/3 [==============================] - 1s 171ms/step - loss: 0.3331 - accuracy: 1.0000 - val_loss: 0.3345 - val_accuracy: 1.0000\n",
      "Epoch 84/120\n",
      "3/3 [==============================] - 1s 203ms/step - loss: 0.3294 - accuracy: 1.0000 - val_loss: 0.3263 - val_accuracy: 1.0000\n",
      "Epoch 85/120\n",
      "3/3 [==============================] - 1s 172ms/step - loss: 0.3229 - accuracy: 1.0000 - val_loss: 0.3193 - val_accuracy: 1.0000\n",
      "Epoch 86/120\n",
      "3/3 [==============================] - 1s 189ms/step - loss: 0.3263 - accuracy: 1.0000 - val_loss: 0.3182 - val_accuracy: 1.0000\n",
      "Epoch 87/120\n",
      "3/3 [==============================] - 1s 170ms/step - loss: 0.3212 - accuracy: 1.0000 - val_loss: 0.3189 - val_accuracy: 1.0000\n",
      "Epoch 88/120\n",
      "3/3 [==============================] - 1s 186ms/step - loss: 0.3200 - accuracy: 1.0000 - val_loss: 0.3180 - val_accuracy: 1.0000\n",
      "Epoch 89/120\n",
      "3/3 [==============================] - 1s 173ms/step - loss: 0.3209 - accuracy: 1.0000 - val_loss: 0.3163 - val_accuracy: 1.0000\n",
      "Epoch 90/120\n",
      "3/3 [==============================] - 1s 184ms/step - loss: 0.3189 - accuracy: 1.0000 - val_loss: 0.3169 - val_accuracy: 1.0000\n",
      "Epoch 91/120\n",
      "3/3 [==============================] - 1s 171ms/step - loss: 0.3196 - accuracy: 1.0000 - val_loss: 0.3153 - val_accuracy: 1.0000\n",
      "Epoch 92/120\n",
      "3/3 [==============================] - 1s 170ms/step - loss: 0.3168 - accuracy: 1.0000 - val_loss: 0.3153 - val_accuracy: 1.0000\n",
      "Epoch 93/120\n",
      "3/3 [==============================] - 1s 175ms/step - loss: 0.3171 - accuracy: 1.0000 - val_loss: 0.3151 - val_accuracy: 1.0000\n",
      "Epoch 94/120\n",
      "3/3 [==============================] - 1s 203ms/step - loss: 0.3161 - accuracy: 1.0000 - val_loss: 0.3150 - val_accuracy: 1.0000\n",
      "Epoch 95/120\n",
      "3/3 [==============================] - 1s 171ms/step - loss: 0.3171 - accuracy: 1.0000 - val_loss: 0.3148 - val_accuracy: 1.0000\n",
      "Epoch 96/120\n",
      "3/3 [==============================] - 1s 196ms/step - loss: 0.3154 - accuracy: 1.0000 - val_loss: 0.3177 - val_accuracy: 1.0000\n",
      "Epoch 97/120\n",
      "3/3 [==============================] - 1s 184ms/step - loss: 0.3161 - accuracy: 1.0000 - val_loss: 0.3151 - val_accuracy: 1.0000\n",
      "Epoch 98/120\n",
      "3/3 [==============================] - 1s 176ms/step - loss: 0.3153 - accuracy: 1.0000 - val_loss: 0.3142 - val_accuracy: 1.0000\n",
      "Epoch 99/120\n",
      "3/3 [==============================] - 1s 171ms/step - loss: 0.3149 - accuracy: 1.0000 - val_loss: 0.3143 - val_accuracy: 1.0000\n",
      "Epoch 100/120\n",
      "3/3 [==============================] - 1s 175ms/step - loss: 0.3147 - accuracy: 1.0000 - val_loss: 0.3146 - val_accuracy: 1.0000\n",
      "Epoch 101/120\n",
      "3/3 [==============================] - 1s 176ms/step - loss: 0.3152 - accuracy: 1.0000 - val_loss: 0.3142 - val_accuracy: 1.0000\n",
      "Epoch 102/120\n",
      "3/3 [==============================] - 1s 194ms/step - loss: 0.3148 - accuracy: 1.0000 - val_loss: 0.3137 - val_accuracy: 1.0000\n",
      "Epoch 103/120\n",
      "3/3 [==============================] - 1s 204ms/step - loss: 0.3152 - accuracy: 1.0000 - val_loss: 0.3150 - val_accuracy: 1.0000\n",
      "Epoch 104/120\n",
      "3/3 [==============================] - 1s 191ms/step - loss: 0.3155 - accuracy: 1.0000 - val_loss: 0.3178 - val_accuracy: 1.0000\n",
      "Epoch 105/120\n",
      "3/3 [==============================] - 1s 173ms/step - loss: 0.3165 - accuracy: 1.0000 - val_loss: 0.3140 - val_accuracy: 1.0000\n",
      "Epoch 106/120\n",
      "3/3 [==============================] - 1s 175ms/step - loss: 0.3149 - accuracy: 1.0000 - val_loss: 0.3142 - val_accuracy: 1.0000\n",
      "Epoch 107/120\n",
      "3/3 [==============================] - 1s 194ms/step - loss: 0.3154 - accuracy: 1.0000 - val_loss: 0.3145 - val_accuracy: 1.0000\n",
      "Epoch 108/120\n",
      "3/3 [==============================] - 1s 172ms/step - loss: 0.3145 - accuracy: 1.0000 - val_loss: 0.3147 - val_accuracy: 1.0000\n",
      "Epoch 109/120\n",
      "3/3 [==============================] - 1s 182ms/step - loss: 0.3150 - accuracy: 1.0000 - val_loss: 0.3137 - val_accuracy: 1.0000\n",
      "Epoch 110/120\n",
      "3/3 [==============================] - 1s 181ms/step - loss: 0.3149 - accuracy: 1.0000 - val_loss: 0.3138 - val_accuracy: 1.0000\n",
      "Epoch 111/120\n",
      "3/3 [==============================] - 1s 190ms/step - loss: 0.3145 - accuracy: 1.0000 - val_loss: 0.3139 - val_accuracy: 1.0000\n",
      "Epoch 112/120\n",
      "3/3 [==============================] - 1s 172ms/step - loss: 0.3145 - accuracy: 1.0000 - val_loss: 0.3147 - val_accuracy: 1.0000\n",
      "Epoch 113/120\n",
      "3/3 [==============================] - 1s 170ms/step - loss: 0.3152 - accuracy: 1.0000 - val_loss: 0.3141 - val_accuracy: 1.0000\n"
     ]
    },
    {
     "name": "stdout",
     "output_type": "stream",
     "text": [
      "Epoch 114/120\n",
      "3/3 [==============================] - 1s 172ms/step - loss: 0.3151 - accuracy: 1.0000 - val_loss: 0.3145 - val_accuracy: 1.0000\n",
      "Epoch 115/120\n",
      "3/3 [==============================] - 1s 187ms/step - loss: 0.3156 - accuracy: 1.0000 - val_loss: 0.3136 - val_accuracy: 1.0000\n",
      "Epoch 116/120\n",
      "3/3 [==============================] - 1s 170ms/step - loss: 0.3139 - accuracy: 1.0000 - val_loss: 0.3137 - val_accuracy: 1.0000\n",
      "Epoch 117/120\n",
      "3/3 [==============================] - 1s 170ms/step - loss: 0.3146 - accuracy: 1.0000 - val_loss: 0.3136 - val_accuracy: 1.0000\n",
      "Epoch 118/120\n",
      "3/3 [==============================] - 1s 177ms/step - loss: 0.3143 - accuracy: 1.0000 - val_loss: 0.3135 - val_accuracy: 1.0000\n",
      "Epoch 119/120\n",
      "3/3 [==============================] - 1s 190ms/step - loss: 0.3145 - accuracy: 1.0000 - val_loss: 0.3137 - val_accuracy: 1.0000\n",
      "Epoch 120/120\n",
      "3/3 [==============================] - 1s 186ms/step - loss: 0.3139 - accuracy: 1.0000 - val_loss: 0.3139 - val_accuracy: 1.0000\n"
     ]
    },
    {
     "data": {
      "text/plain": [
       "<tensorflow.python.keras.callbacks.History at 0x1f63b5c2588>"
      ]
     },
     "execution_count": 12,
     "metadata": {},
     "output_type": "execute_result"
    }
   ],
   "source": [
    "model.fit(\n",
    "    train_ds,\n",
    "    validation_data=val_ds,\n",
    "    epochs=120,\n",
    "    batch_size=32,\n",
    "    verbose=1,\n",
    "    workers=-1,\n",
    "    use_multiprocessing=True,\n",
    "    callbacks=[\n",
    "        TensorBoard(log_dir=\"../logs/\" + strftime(\"%Y%m%d-%H%M%S\", localtime()))\n",
    "    ]\n",
    ")"
   ]
  },
  {
   "cell_type": "code",
   "execution_count": null,
   "metadata": {},
   "outputs": [],
   "source": [
    "tensorboard --logdir ../logs"
   ]
  },
  {
   "cell_type": "code",
   "execution_count": 40,
   "metadata": {
    "ExecuteTime": {
     "end_time": "2021-10-18T06:30:24.175317Z",
     "start_time": "2021-10-18T06:30:23.374302Z"
    }
   },
   "outputs": [
    {
     "name": "stdout",
     "output_type": "stream",
     "text": [
      "INFO:tensorflow:Assets written to: ../models/pic_clf/1\\assets\n"
     ]
    }
   ],
   "source": [
    "save_model(model, \"home/centos/pic_clf/4\")      # save_model(model, \"../models/pic_clf/4\")"
   ]
  },
  {
   "cell_type": "markdown",
   "metadata": {},
   "source": [
    "<h3>部署模型并预测</h3>"
   ]
  },
  {
   "cell_type": "markdown",
   "metadata": {},
   "source": [
    "<h4>部署模型</h4>"
   ]
  },
  {
   "cell_type": "markdown",
   "metadata": {},
   "source": [
    "<h5>安装docker</h5>"
   ]
  },
  {
   "cell_type": "code",
   "execution_count": null,
   "metadata": {},
   "outputs": [],
   "source": [
    "!sudo yum install -y epel-release\n",
    "!sudo yum install https://get.docker.com/rpm/1.7.1/centos-6/RPMS/x86_64/docker-engine-1.7.1-1.el6.x86_64.rpm\n",
    "!docker version\n",
    "!sudo service docker start"
   ]
  },
  {
   "cell_type": "markdown",
   "metadata": {},
   "source": [
    "<h5>拉取镜像</h5>"
   ]
  },
  {
   "cell_type": "code",
   "execution_count": null,
   "metadata": {},
   "outputs": [],
   "source": [
    "!docker pull tensorflow/serving:2.3.0"
   ]
  },
  {
   "cell_type": "markdown",
   "metadata": {},
   "source": [
    "<h5>部署服务</h5>"
   ]
  },
  {
   "cell_type": "code",
   "execution_count": null,
   "metadata": {},
   "outputs": [],
   "source": [
    "!docker run -t \\\n",
    "    -p 8501:8501 \\\n",
    "    -v \"/home/centos/pic_clf:/models/pic_clf\" \\\n",
    "    -e MODEL_NAME=pic_clf \\\n",
    "    tensorflow/serving:2.3.0"
   ]
  },
  {
   "cell_type": "markdown",
   "metadata": {},
   "source": [
    "<h4>测试数据</h4>"
   ]
  },
  {
   "cell_type": "markdown",
   "metadata": {},
   "source": [
    "<h5>读取测试数据</h5>"
   ]
  },
  {
   "cell_type": "code",
   "execution_count": 5,
   "metadata": {
    "ExecuteTime": {
     "end_time": "2021-10-20T12:06:15.805610Z",
     "start_time": "2021-10-20T12:06:13.373763Z"
    }
   },
   "outputs": [
    {
     "name": "stdout",
     "output_type": "stream",
     "text": [
      "Found 63 files belonging to 2 classes.\n"
     ]
    }
   ],
   "source": [
    "x_test, y_test = list(image_dataset_from_directory(test_dir, image_size=(160, 160)))[1]"
   ]
  },
  {
   "cell_type": "code",
   "execution_count": 6,
   "metadata": {
    "ExecuteTime": {
     "end_time": "2021-10-20T12:06:16.476312Z",
     "start_time": "2021-10-20T12:06:16.464313Z"
    },
    "pycharm": {
     "name": "#%%\n"
    }
   },
   "outputs": [],
   "source": [
    "x_test = x_test.numpy()\n",
    "y_test = y_test.numpy()"
   ]
  },
  {
   "cell_type": "markdown",
   "metadata": {},
   "source": [
    "<h5>预测数据</h5>"
   ]
  },
  {
   "cell_type": "code",
   "execution_count": 7,
   "metadata": {
    "ExecuteTime": {
     "end_time": "2021-10-20T12:06:27.513684Z",
     "start_time": "2021-10-20T12:06:20.711480Z"
    }
   },
   "outputs": [],
   "source": [
    "data = json.dumps({\"instances\": x_test.tolist()})\n",
    "headers = {\"content-type\": \"application/json\"}\n",
    "response = requests.post(\n",
    "    url=\"http://81.70.8.71:8501/v1/models/pic_clf:predict\",\n",
    "    data=data,\n",
    "    headers=headers\n",
    ")\n",
    "if response.status_code != 200:\n",
    "    raise ValueError(response.text)"
   ]
  },
  {
   "cell_type": "code",
   "execution_count": 8,
   "metadata": {
    "ExecuteTime": {
     "end_time": "2021-10-20T12:06:29.698924Z",
     "start_time": "2021-10-20T12:06:29.695925Z"
    }
   },
   "outputs": [],
   "source": [
    "y_pred_prob = np.array(json.loads(response.text)[\"predictions\"])"
   ]
  },
  {
   "cell_type": "code",
   "execution_count": 9,
   "metadata": {
    "ExecuteTime": {
     "end_time": "2021-10-20T12:06:30.339474Z",
     "start_time": "2021-10-20T12:06:30.335471Z"
    }
   },
   "outputs": [],
   "source": [
    "y_pred = np.where(y_pred_prob[:, 0] > y_pred_prob[:, 1], 0, 1).ravel()"
   ]
  },
  {
   "cell_type": "code",
   "execution_count": 10,
   "metadata": {
    "ExecuteTime": {
     "end_time": "2021-10-20T12:06:30.900966Z",
     "start_time": "2021-10-20T12:06:30.886967Z"
    }
   },
   "outputs": [
    {
     "name": "stdout",
     "output_type": "stream",
     "text": [
      "              precision    recall  f1-score   support\n",
      "\n",
      "           0       1.00      1.00      1.00        11\n",
      "           1       1.00      1.00      1.00        20\n",
      "\n",
      "    accuracy                           1.00        31\n",
      "   macro avg       1.00      1.00      1.00        31\n",
      "weighted avg       1.00      1.00      1.00        31\n",
      "\n"
     ]
    }
   ],
   "source": [
    "print(classification_report(y_test, y_pred))"
   ]
  },
  {
   "cell_type": "code",
   "execution_count": null,
   "metadata": {},
   "outputs": [],
   "source": []
  }
 ],
 "metadata": {
  "kernelspec": {
   "display_name": "Python 3",
   "language": "python",
   "name": "python3"
  },
  "language_info": {
   "codemirror_mode": {
    "name": "ipython",
    "version": 3
   },
   "file_extension": ".py",
   "mimetype": "text/x-python",
   "name": "python",
   "nbconvert_exporter": "python",
   "pygments_lexer": "ipython3",
   "version": "3.7.3"
  },
  "toc": {
   "base_numbering": 1,
   "nav_menu": {},
   "number_sections": true,
   "sideBar": true,
   "skip_h1_title": false,
   "title_cell": "Table of Contents",
   "title_sidebar": "Contents",
   "toc_cell": false,
   "toc_position": {},
   "toc_section_display": true,
   "toc_window_display": true
  },
  "varInspector": {
   "cols": {
    "lenName": 16,
    "lenType": 16,
    "lenVar": 40
   },
   "kernels_config": {
    "python": {
     "delete_cmd_postfix": "",
     "delete_cmd_prefix": "del ",
     "library": "var_list.py",
     "varRefreshCmd": "print(var_dic_list())"
    },
    "r": {
     "delete_cmd_postfix": ") ",
     "delete_cmd_prefix": "rm(",
     "library": "var_list.r",
     "varRefreshCmd": "cat(var_dic_list()) "
    }
   },
   "types_to_exclude": [
    "module",
    "function",
    "builtin_function_or_method",
    "instance",
    "_Feature"
   ],
   "window_display": true
  }
 },
 "nbformat": 4,
 "nbformat_minor": 4
}
